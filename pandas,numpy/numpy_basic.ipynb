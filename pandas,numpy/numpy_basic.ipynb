{
 "cells": [
  {
   "cell_type": "code",
   "execution_count": 2,
   "id": "a583d0ca",
   "metadata": {},
   "outputs": [],
   "source": [
    "import numpy as np"
   ]
  },
  {
   "cell_type": "markdown",
   "id": "2f37fecf",
   "metadata": {},
   "source": [
    "# Array type, 형태"
   ]
  },
  {
   "cell_type": "code",
   "execution_count": 3,
   "id": "d083dea2",
   "metadata": {
    "scrolled": true
   },
   "outputs": [
    {
     "name": "stdout",
     "output_type": "stream",
     "text": [
      "array1 type :  <class 'numpy.ndarray'>\n",
      "array1 array 형태 : (3,)\n"
     ]
    }
   ],
   "source": [
    "array1 = np.array([1,2,3])\n",
    "print('array1 type : ', type(array1))\n",
    "print('array1 array 형태 :', array1.shape)"
   ]
  },
  {
   "cell_type": "markdown",
   "id": "1f0d2666",
   "metadata": {},
   "source": [
    "(3,) : 1차원 array로 3개의 데이터를 가지고 있다는 뜻  \n",
    " (1,3) == (3,)"
   ]
  },
  {
   "cell_type": "code",
   "execution_count": 5,
   "id": "205e38d5",
   "metadata": {},
   "outputs": [
    {
     "name": "stdout",
     "output_type": "stream",
     "text": [
      "array2 type :  <class 'numpy.ndarray'>\n",
      "array2 array 형태 :  (2, 3)\n"
     ]
    }
   ],
   "source": [
    "array2 = np.array([[1,2,3],\n",
    "                  [2,3,4]])\n",
    "print('array2 type : ', type(array2))\n",
    "print('array2 array 형태 : ', array2.shape)"
   ]
  },
  {
   "cell_type": "markdown",
   "id": "2061bd40",
   "metadata": {},
   "source": [
    "(2, 3) : 2차원 array, 2개의 row와 3개의 column으로 구성되어 2*3 6개의 데이터를 가지고 있음"
   ]
  },
  {
   "cell_type": "code",
   "execution_count": 6,
   "id": "03036121",
   "metadata": {
    "scrolled": true
   },
   "outputs": [
    {
     "name": "stdout",
     "output_type": "stream",
     "text": [
      "array3 type :  <class 'numpy.ndarray'>\n",
      "array3 array 형태 : (1, 3)\n"
     ]
    }
   ],
   "source": [
    "array3 = np.array([[1,2,3]])\n",
    "print('array3 type : ', type(array3))\n",
    "print('array3 array 형태 :', array3.shape)"
   ]
  },
  {
   "cell_type": "markdown",
   "id": "47ce8e20",
   "metadata": {},
   "source": [
    "(1, 3) : 2차원 array, 1개의 row 3개의 column 3개의 데이터"
   ]
  },
  {
   "cell_type": "markdown",
   "id": "d4bc0a01",
   "metadata": {},
   "source": [
    "## array의 차원 확인"
   ]
  },
  {
   "cell_type": "code",
   "execution_count": 7,
   "id": "febd7faf",
   "metadata": {
    "scrolled": true
   },
   "outputs": [
    {
     "name": "stdout",
     "output_type": "stream",
     "text": [
      "array1 : 1차원 \n",
      "array2 : 2차원 \n",
      "array3 : 2차원\n"
     ]
    }
   ],
   "source": [
    "print(f'array1 : {array1.ndim}차원 \\narray2 : {array2.ndim}차원 \\narray3 : {array3.ndim}차원')"
   ]
  },
  {
   "cell_type": "markdown",
   "id": "b16b871a",
   "metadata": {},
   "source": [
    "## ndarray dataType 확인"
   ]
  },
  {
   "cell_type": "markdown",
   "id": "c5fe1fbf",
   "metadata": {},
   "source": [
    "ndarray 내의 data type은 같은 type만 가능"
   ]
  },
  {
   "cell_type": "code",
   "execution_count": 8,
   "id": "fc771689",
   "metadata": {},
   "outputs": [
    {
     "name": "stdout",
     "output_type": "stream",
     "text": [
      "<class 'list'>\n",
      "<class 'numpy.ndarray'>\n",
      "[1 2 3] int32\n"
     ]
    }
   ],
   "source": [
    "list1 = [1,2,3]\n",
    "print(type(list1))\n",
    "array1 = np.array(list1)\n",
    "print(type(array1))\n",
    "print(array1, array1.dtype)"
   ]
  },
  {
   "cell_type": "markdown",
   "id": "540b4bb1",
   "metadata": {},
   "source": [
    "만약 다른 타입이 들어있는 리스트를 ndarray로 변경하면 크기가 더 큰 타입으로 타입이 변환됨  \n",
    "int < float < str"
   ]
  },
  {
   "cell_type": "code",
   "execution_count": 12,
   "id": "a02a4d20",
   "metadata": {},
   "outputs": [
    {
     "name": "stdout",
     "output_type": "stream",
     "text": [
      "['1' '2' 'test'] <U11\n",
      "[1.  2.  3.4] float64\n"
     ]
    }
   ],
   "source": [
    "list2 = [1, 2, 'test']\n",
    "array2 = np.array(list2)\n",
    "print(array2, array2.dtype)\n",
    "\n",
    "list3 = [1, 2.0, 3.4]\n",
    "array3 = np.array(list3)\n",
    "print(array3, array3.dtype)"
   ]
  },
  {
   "cell_type": "markdown",
   "id": "a5fbf6e5",
   "metadata": {},
   "source": [
    "## data Type 변경"
   ]
  },
  {
   "cell_type": "code",
   "execution_count": 13,
   "id": "4f13bcb1",
   "metadata": {},
   "outputs": [
    {
     "name": "stdout",
     "output_type": "stream",
     "text": [
      "[1. 2. 3.] float64\n"
     ]
    }
   ],
   "source": [
    "arr_int = np.array([1,2,3])\n",
    "arr_float = arr_int.astype('float64')\n",
    "print(arr_float, arr_float.dtype)"
   ]
  },
  {
   "cell_type": "code",
   "execution_count": 14,
   "id": "8087df7d",
   "metadata": {},
   "outputs": [
    {
     "name": "stdout",
     "output_type": "stream",
     "text": [
      "[1 2 3] int32\n"
     ]
    }
   ],
   "source": [
    "arr_int1= arr_float.astype('int32')\n",
    "print(arr_int1, arr_int1.dtype)"
   ]
  },
  {
   "cell_type": "code",
   "execution_count": 17,
   "id": "35e51047",
   "metadata": {},
   "outputs": [
    {
     "name": "stdout",
     "output_type": "stream",
     "text": [
      "[1 2 3] int32\n"
     ]
    }
   ],
   "source": [
    "arr_float1 = np.array([1.3, 2.5, 3.6])\n",
    "arr_float1 = arr_float1.astype('int32') # 원본이 변경되지 않으므로 변수에 저장해야함\n",
    "print(arr_float1, arr_float1.dtype)"
   ]
  },
  {
   "cell_type": "markdown",
   "id": "cb721ace",
   "metadata": {},
   "source": [
    "## 간단하게 array생성\n",
    "\n",
    "- arange() : range()와 같음\n",
    "- zeros() : tuple형태 입력 -> 데이터를 0으로 채워 ndarray반환\n",
    "- ones() : tuple 형태 입력 -> 데이터를 1로 채워 ndarray 반환"
   ]
  },
  {
   "cell_type": "code",
   "execution_count": 18,
   "id": "0e5af17e",
   "metadata": {},
   "outputs": [
    {
     "name": "stdout",
     "output_type": "stream",
     "text": [
      "[0 1 2 3 4 5 6 7 8 9]\n",
      "int32 (10,)\n"
     ]
    }
   ],
   "source": [
    "arr = np.arange(10)\n",
    "print(arr)\n",
    "print(arr.dtype, arr.shape)"
   ]
  },
  {
   "cell_type": "code",
   "execution_count": 19,
   "id": "5599c55b",
   "metadata": {},
   "outputs": [
    {
     "name": "stdout",
     "output_type": "stream",
     "text": [
      "[[0 0]\n",
      " [0 0]\n",
      " [0 0]]\n",
      "int32 (3, 2)\n"
     ]
    }
   ],
   "source": [
    "arr_z = np.zeros((3, 2), dtype='int32') # datatype default : float64\n",
    "print(arr_z)\n",
    "print(arr_z.dtype, arr_z.shape)"
   ]
  },
  {
   "cell_type": "code",
   "execution_count": 20,
   "id": "c8383bbe",
   "metadata": {},
   "outputs": [
    {
     "name": "stdout",
     "output_type": "stream",
     "text": [
      "[[1. 1. 1.]\n",
      " [1. 1. 1.]]\n",
      "float64 (2, 3)\n"
     ]
    }
   ],
   "source": [
    "arr_o = np.ones((2,3))\n",
    "print(arr_o)\n",
    "print(arr_o.dtype, arr_o.shape)"
   ]
  },
  {
   "cell_type": "markdown",
   "id": "35840f16",
   "metadata": {},
   "source": [
    "## array 차원과 크기 변경"
   ]
  },
  {
   "cell_type": "markdown",
   "id": "6dadc9be",
   "metadata": {},
   "source": [
    "데이터 갯수가 맞지 않으면 변경 불가"
   ]
  },
  {
   "cell_type": "code",
   "execution_count": 23,
   "id": "3648ca78",
   "metadata": {},
   "outputs": [
    {
     "name": "stdout",
     "output_type": "stream",
     "text": [
      "arr : \n",
      "[0 1 2 3 4 5 6 7 8 9]\n",
      "arr2 : \n",
      "[[0 1 2 3 4]\n",
      " [5 6 7 8 9]]\n",
      "arr3 : \n",
      "[[0 1]\n",
      " [2 3]\n",
      " [4 5]\n",
      " [6 7]\n",
      " [8 9]]\n"
     ]
    }
   ],
   "source": [
    "arr = np.arange(10)\n",
    "print(f'arr : \\n{arr}')\n",
    "\n",
    "arr2 = arr.reshape(2, 5)\n",
    "print(f'arr2 : \\n{arr2}')\n",
    "\n",
    "arr3 = arr.reshape(5, 2)\n",
    "print(f'arr3 : \\n{arr3}')"
   ]
  },
  {
   "cell_type": "markdown",
   "id": "745356c0",
   "metadata": {},
   "source": [
    "-1을 입력하면 나머지에 맞춰서 알아서 조정해줌  "
   ]
  },
  {
   "cell_type": "code",
   "execution_count": 25,
   "id": "024a4530",
   "metadata": {},
   "outputs": [
    {
     "name": "stdout",
     "output_type": "stream",
     "text": [
      "[0 1 2 3 4 5 6 7 8 9]\n",
      "[[0 1 2 3 4]\n",
      " [5 6 7 8 9]] (2, 5)\n",
      "[[0 1]\n",
      " [2 3]\n",
      " [4 5]\n",
      " [6 7]\n",
      " [8 9]] (5, 2)\n"
     ]
    }
   ],
   "source": [
    "arr = np.arange(10)\n",
    "print(arr)\n",
    "\n",
    "arr1 = arr.reshape(-1, 5)\n",
    "print(arr1, arr1.shape)\n",
    "\n",
    "arr2 = arr.reshape(5, -1)\n",
    "print(arr2, arr2.shape)"
   ]
  },
  {
   "cell_type": "markdown",
   "id": "9938bf6f",
   "metadata": {},
   "source": [
    "reshape()은 (-1, 1)에 주로 사용됨  \n",
    "어떤차원이든 2차원, 1개의 칼럼을 가진 ndarray로 변환"
   ]
  },
  {
   "cell_type": "code",
   "execution_count": 31,
   "id": "5f73f624",
   "metadata": {},
   "outputs": [
    {
     "name": "stdout",
     "output_type": "stream",
     "text": [
      "[[[0 1]\n",
      "  [2 3]]\n",
      "\n",
      " [[4 5]\n",
      "  [6 7]]]\n"
     ]
    }
   ],
   "source": [
    "arr = np.arange(8)\n",
    "arr3d = arr.reshape((2, 2, 2)) # 3차원\n",
    "print(arr3d)"
   ]
  },
  {
   "cell_type": "code",
   "execution_count": 32,
   "id": "6300beac",
   "metadata": {},
   "outputs": [
    {
     "name": "stdout",
     "output_type": "stream",
     "text": [
      "arr3d : \n",
      " [[[0, 1], [2, 3]], [[4, 5], [6, 7]]]\n"
     ]
    }
   ],
   "source": [
    "print('arr3d : \\n', arr3d.tolist()) # tolist() : array를 list로 변환"
   ]
  },
  {
   "cell_type": "code",
   "execution_count": 36,
   "id": "db355306",
   "metadata": {},
   "outputs": [
    {
     "name": "stdout",
     "output_type": "stream",
     "text": [
      "arr : \n",
      " [[0], [1], [2], [3], [4], [5], [6], [7]]\n",
      "arr shape : \n",
      " (8, 1)\n"
     ]
    }
   ],
   "source": [
    "arr= arr3d.reshape(-1, 1)\n",
    "print('arr : \\n', arr.tolist())\n",
    "print('arr shape : \\n', arr.shape)"
   ]
  },
  {
   "cell_type": "markdown",
   "id": "3f7680ff",
   "metadata": {},
   "source": [
    "## indexing"
   ]
  },
  {
   "cell_type": "markdown",
   "id": "636f5bf7",
   "metadata": {},
   "source": [
    "### 1차원 단일 값 추출, 수정"
   ]
  },
  {
   "cell_type": "code",
   "execution_count": 39,
   "id": "9484396d",
   "metadata": {},
   "outputs": [
    {
     "name": "stdout",
     "output_type": "stream",
     "text": [
      "arr :  [1 2 3 4 5 6 7 8 9]\n",
      "val :  3\n",
      "<class 'numpy.int32'>\n"
     ]
    }
   ],
   "source": [
    "arr = np.arange(1, 10)\n",
    "print('arr : ', arr)\n",
    "\n",
    "val = arr[2]\n",
    "print('val : ', val)\n",
    "\n",
    "print(type(val))"
   ]
  },
  {
   "cell_type": "code",
   "execution_count": 40,
   "id": "78736755",
   "metadata": {},
   "outputs": [
    {
     "name": "stdout",
     "output_type": "stream",
     "text": [
      "[ 1  2  3 10  5  6  7  8  9]\n"
     ]
    }
   ],
   "source": [
    "arr[3] = 10\n",
    "print(arr)"
   ]
  },
  {
   "cell_type": "markdown",
   "id": "00200b6a",
   "metadata": {},
   "source": [
    "### 2차원 "
   ]
  },
  {
   "cell_type": "code",
   "execution_count": 47,
   "id": "4575d036",
   "metadata": {},
   "outputs": [
    {
     "name": "stdout",
     "output_type": "stream",
     "text": [
      "[[1 2 3]\n",
      " [4 5 6]\n",
      " [7 8 9]] \n",
      "\n",
      "arr2[0, 0] : 1\n",
      "arr2[1, 1] : 5\n",
      "arr2[2, 0] : 7\n"
     ]
    }
   ],
   "source": [
    "arr = np.arange(1, 10)\n",
    "arr2 = arr.reshape(3, 3)\n",
    "print(arr2,'\\n')\n",
    "\n",
    "print('arr2[0, 0] :', arr2[0, 0])\n",
    "print('arr2[1, 1] :', arr2[1, 1])\n",
    "print('arr2[2, 0] :', arr2[2, 0])"
   ]
  },
  {
   "cell_type": "code",
   "execution_count": 43,
   "id": "2090bd4d",
   "metadata": {},
   "outputs": [
    {
     "name": "stdout",
     "output_type": "stream",
     "text": [
      "[[100   2   3]\n",
      " [  4   5   6]\n",
      " [  7   8   9]]\n"
     ]
    }
   ],
   "source": [
    "arr2[0, 0] = 100\n",
    "print(arr2)"
   ]
  },
  {
   "cell_type": "markdown",
   "id": "df7b7566",
   "metadata": {},
   "source": [
    "## 슬라이싱"
   ]
  },
  {
   "cell_type": "markdown",
   "id": "76ce3f73",
   "metadata": {},
   "source": [
    "### 1차원"
   ]
  },
  {
   "cell_type": "code",
   "execution_count": 45,
   "id": "12d24851",
   "metadata": {},
   "outputs": [
    {
     "name": "stdout",
     "output_type": "stream",
     "text": [
      "[1 2 3 4 5 6 7 8 9]\n",
      "[4 5 6 7 8]\n"
     ]
    }
   ],
   "source": [
    "arr = np.arange(1, 10)\n",
    "print(arr)\n",
    "print(arr[3:8])"
   ]
  },
  {
   "cell_type": "markdown",
   "id": "f5449321",
   "metadata": {},
   "source": [
    "### 2차원"
   ]
  },
  {
   "cell_type": "code",
   "execution_count": 55,
   "id": "baa34ad9",
   "metadata": {},
   "outputs": [
    {
     "name": "stdout",
     "output_type": "stream",
     "text": [
      "[[1 2 3]\n",
      " [4 5 6]\n",
      " [7 8 9]] \n",
      "\n",
      "3\n",
      "[[1]\n",
      " [4]]\n",
      "[[4 5]\n",
      " [7 8]]\n",
      "[1 2 3]\n"
     ]
    }
   ],
   "source": [
    "arr = np.array([[1,2,3],[4,5,6],[7,8,9]])\n",
    "print(arr, '\\n')\n",
    "\n",
    "print(arr[0][2])\n",
    "print(arr[:2, :1])\n",
    "print(arr[1:3, :2])\n",
    "print(arr[0])"
   ]
  },
  {
   "cell_type": "markdown",
   "id": "ce129f30",
   "metadata": {},
   "source": [
    "## 팬시 인덱싱"
   ]
  },
  {
   "cell_type": "code",
   "execution_count": 64,
   "id": "c533423f",
   "metadata": {
    "scrolled": true
   },
   "outputs": [
    {
     "name": "stdout",
     "output_type": "stream",
     "text": [
      "[[1 2 3]\n",
      " [4 5 6]\n",
      " [7 8 9]] \n",
      "\n",
      "[3 6]\n",
      "[2 9]\n",
      "[[1 2]\n",
      " [4 5]]\n"
     ]
    }
   ],
   "source": [
    "arr = np.arange(1,10).reshape(3, 3)\n",
    "print(arr,'\\n')\n",
    "\n",
    "print(arr[[0,1], 2]) # (row),(col) -> (0,2),(1,2)\n",
    "print(arr[[0, 2],[1, 2]]) # (0,1),(2,2)\n",
    "print(arr[[0,1], :2]) # ((0,0),(0,1)),((1,0),(1,1)) -> (1, 2),(4, 5)"
   ]
  },
  {
   "cell_type": "code",
   "execution_count": 65,
   "id": "82557f90",
   "metadata": {},
   "outputs": [
    {
     "data": {
      "text/plain": [
       "array([3, 6])"
      ]
     },
     "execution_count": 65,
     "metadata": {},
     "output_type": "execute_result"
    }
   ],
   "source": [
    "arr[[0,1],[2,2]]"
   ]
  },
  {
   "cell_type": "code",
   "execution_count": 66,
   "id": "385b3161",
   "metadata": {},
   "outputs": [
    {
     "data": {
      "text/plain": [
       "array([3, 6])"
      ]
     },
     "execution_count": 66,
     "metadata": {},
     "output_type": "execute_result"
    }
   ],
   "source": [
    "arr[(0,1),(2,2)]"
   ]
  },
  {
   "cell_type": "code",
   "execution_count": 67,
   "id": "bf04de21",
   "metadata": {},
   "outputs": [
    {
     "data": {
      "text/plain": [
       "(2, [2, 2])"
      ]
     },
     "execution_count": 67,
     "metadata": {},
     "output_type": "execute_result"
    }
   ],
   "source": [
    "arr[0,1],[2,2]"
   ]
  },
  {
   "cell_type": "code",
   "execution_count": 81,
   "id": "dbf1358a",
   "metadata": {},
   "outputs": [
    {
     "data": {
      "text/plain": [
       "array([2, 3, 7, 8])"
      ]
     },
     "execution_count": 81,
     "metadata": {},
     "output_type": "execute_result"
    }
   ],
   "source": [
    "arr[[0, 0, 2, 2], [1, 2, 0, 1]]"
   ]
  },
  {
   "cell_type": "code",
   "execution_count": 82,
   "id": "fa7aed36",
   "metadata": {
    "scrolled": true
   },
   "outputs": [
    {
     "data": {
      "text/plain": [
       "array([[[1, 2, 3],\n",
       "        [4, 5, 6]],\n",
       "\n",
       "       [[1, 2, 3],\n",
       "        [7, 8, 9]],\n",
       "\n",
       "       [[7, 8, 9],\n",
       "        [1, 2, 3]],\n",
       "\n",
       "       [[7, 8, 9],\n",
       "        [4, 5, 6]]])"
      ]
     },
     "execution_count": 82,
     "metadata": {},
     "output_type": "execute_result"
    }
   ],
   "source": [
    "# arr[[[0, 0, 2, 2], [1, 2, 0, 1]]]\n",
    "\n",
    "arr[[[0,1],[0,2],[2,0],[2,1]]]\n"
   ]
  },
  {
   "cell_type": "code",
   "execution_count": 77,
   "id": "1cf8b646",
   "metadata": {},
   "outputs": [
    {
     "data": {
      "text/plain": [
       "array([2, 7])"
      ]
     },
     "execution_count": 77,
     "metadata": {},
     "output_type": "execute_result"
    }
   ],
   "source": [
    "arr[[0,2],[1,0]]"
   ]
  },
  {
   "cell_type": "markdown",
   "id": "033c94aa",
   "metadata": {},
   "source": [
    "## 불린 인덱싱"
   ]
  },
  {
   "cell_type": "code",
   "execution_count": 83,
   "id": "267406e4",
   "metadata": {},
   "outputs": [
    {
     "name": "stdout",
     "output_type": "stream",
     "text": [
      "[6 7 8 9]\n"
     ]
    }
   ],
   "source": [
    "arr = np.arange(1, 10)\n",
    "\n",
    "print(arr[arr > 5])"
   ]
  },
  {
   "cell_type": "code",
   "execution_count": 84,
   "id": "a1ec64de",
   "metadata": {},
   "outputs": [
    {
     "data": {
      "text/plain": [
       "array([False, False, False, False, False,  True,  True,  True,  True])"
      ]
     },
     "execution_count": 84,
     "metadata": {},
     "output_type": "execute_result"
    }
   ],
   "source": [
    "arr > 5"
   ]
  },
  {
   "cell_type": "code",
   "execution_count": 87,
   "id": "72756a70",
   "metadata": {},
   "outputs": [
    {
     "name": "stdout",
     "output_type": "stream",
     "text": [
      "[1 2 3 4 5 6 7 8 9]\n",
      "[5 6 7 8]\n",
      "[6 7 8 9]\n"
     ]
    }
   ],
   "source": [
    "indexs = np.arange(5,9)\n",
    "\n",
    "print(arr)\n",
    "print(indexs)\n",
    "print(arr[indexs]) # arr에서 index번호를 넣어서 호출한것과 같음 == arr[[5,6,7,8]]"
   ]
  },
  {
   "cell_type": "markdown",
   "id": "64969d34",
   "metadata": {},
   "source": [
    "## 행렬 정렬  \n",
    "\n",
    "- srot()\n",
    "- argsort()"
   ]
  },
  {
   "cell_type": "code",
   "execution_count": 93,
   "id": "1629c3aa",
   "metadata": {},
   "outputs": [
    {
     "name": "stdout",
     "output_type": "stream",
     "text": [
      "[3 1 9 5] \n",
      "\n",
      "[1 3 5 9]\n",
      "[3 1 9 5]\n"
     ]
    }
   ],
   "source": [
    "arr = np.array([3, 1, 9, 5])\n",
    "print(arr,'\\n')\n",
    "\n",
    "print(np.sort(arr)) # 원본을 유지하고 결과를 반환함\n",
    "print(arr)"
   ]
  },
  {
   "cell_type": "code",
   "execution_count": 94,
   "id": "fd7657b9",
   "metadata": {},
   "outputs": [
    {
     "name": "stdout",
     "output_type": "stream",
     "text": [
      "None\n",
      "[1 3 5 9]\n"
     ]
    }
   ],
   "source": [
    "print(arr.sort()) # 원본을 정렬시키고 결과를 반환하지 않음\n",
    "print(arr)"
   ]
  },
  {
   "cell_type": "code",
   "execution_count": 95,
   "id": "3d1f3687",
   "metadata": {},
   "outputs": [
    {
     "data": {
      "text/plain": [
       "array([9, 5, 3, 1])"
      ]
     },
     "execution_count": 95,
     "metadata": {},
     "output_type": "execute_result"
    }
   ],
   "source": [
    "arr[::-1] # 내림차순"
   ]
  },
  {
   "cell_type": "markdown",
   "id": "8675c17c",
   "metadata": {},
   "source": [
    "### 2차원 행렬 정렬"
   ]
  },
  {
   "cell_type": "code",
   "execution_count": 3,
   "id": "f8ee0301",
   "metadata": {},
   "outputs": [
    {
     "name": "stdout",
     "output_type": "stream",
     "text": [
      "[[ 8 12]\n",
      " [ 7  1]] \n",
      "\n",
      "[[ 7  1]\n",
      " [ 8 12]]\n",
      "[[ 8 12]\n",
      " [ 1  7]]\n"
     ]
    }
   ],
   "source": [
    "arr = np.array([[8, 12], [7, 1]])\n",
    "\n",
    "print(arr,'\\n')\n",
    "print(np.sort(arr, axis=0)) # 헷갈리니까 0 : ↓, 1:→ 으로 기억하기\n",
    "print(np.sort(arr, axis=1)) "
   ]
  },
  {
   "cell_type": "markdown",
   "id": "9de83266",
   "metadata": {},
   "source": [
    "## 정렬된 행렬의 인덱스 반환"
   ]
  },
  {
   "cell_type": "code",
   "execution_count": 4,
   "id": "18dee866",
   "metadata": {},
   "outputs": [
    {
     "name": "stdout",
     "output_type": "stream",
     "text": [
      "[1 0 3 2]\n"
     ]
    }
   ],
   "source": [
    "arr = np.array([3, 1, 9, 5])\n",
    "\n",
    "print(np.argsort(arr))"
   ]
  },
  {
   "cell_type": "code",
   "execution_count": 5,
   "id": "f1cc040b",
   "metadata": {},
   "outputs": [
    {
     "name": "stdout",
     "output_type": "stream",
     "text": [
      "[2 3 0 1]\n"
     ]
    }
   ],
   "source": [
    "print(np.argsort(arr)[::-1]) #내림차순"
   ]
  },
  {
   "cell_type": "code",
   "execution_count": 6,
   "id": "b710d4a3",
   "metadata": {},
   "outputs": [
    {
     "name": "stdout",
     "output_type": "stream",
     "text": [
      "[2 0 1 3]\n",
      "['minho' 'suzan' 'suhee' 'kate']\n"
     ]
    }
   ],
   "source": [
    "arr_name = np.array(['suzan', 'suhee', 'minho', 'kate'])\n",
    "arr_score = np.array([30, 50, 20, 100])\n",
    "\n",
    "print(np.argsort(arr_score)) # 점수 정렬 인덱스 출력\n",
    "print(arr_name[np.argsort(arr_score)]) # 점수정렬 인덱스로 이름 정렬"
   ]
  },
  {
   "cell_type": "markdown",
   "id": "be0a957f",
   "metadata": {},
   "source": [
    "## 선형대수 연산"
   ]
  },
  {
   "cell_type": "markdown",
   "id": "a928fb18",
   "metadata": {},
   "source": [
    "### 행렬 내적 (행렬 곱)"
   ]
  },
  {
   "cell_type": "code",
   "execution_count": 7,
   "id": "af3fcd4e",
   "metadata": {
    "scrolled": true
   },
   "outputs": [
    {
     "name": "stdout",
     "output_type": "stream",
     "text": [
      "[[ 58  64]\n",
      " [139 154]]\n"
     ]
    }
   ],
   "source": [
    "a = np.array([[1,2,3],[4,5,6]])\n",
    "b = np.array([[7,8],[9, 10], [11, 12]])\n",
    "\n",
    "print(np.dot(a, b))"
   ]
  },
  {
   "cell_type": "code",
   "execution_count": 8,
   "id": "3980d5ba",
   "metadata": {},
   "outputs": [
    {
     "name": "stdout",
     "output_type": "stream",
     "text": [
      "[[ 39  54  69]\n",
      " [ 49  68  87]\n",
      " [ 59  82 105]]\n"
     ]
    }
   ],
   "source": [
    "print(np.dot(b, a))"
   ]
  },
  {
   "cell_type": "code",
   "execution_count": 9,
   "id": "a35d12cd",
   "metadata": {},
   "outputs": [
    {
     "ename": "ValueError",
     "evalue": "shapes (2,3) and (2,3) not aligned: 3 (dim 1) != 2 (dim 0)",
     "output_type": "error",
     "traceback": [
      "\u001b[1;31m---------------------------------------------------------------------------\u001b[0m",
      "\u001b[1;31mValueError\u001b[0m                                Traceback (most recent call last)",
      "Cell \u001b[1;32mIn[9], line 4\u001b[0m\n\u001b[0;32m      1\u001b[0m c \u001b[38;5;241m=\u001b[39m np\u001b[38;5;241m.\u001b[39marray([[\u001b[38;5;241m1\u001b[39m,\u001b[38;5;241m2\u001b[39m,\u001b[38;5;241m1\u001b[39m],[\u001b[38;5;241m2\u001b[39m,\u001b[38;5;241m4\u001b[39m,\u001b[38;5;241m1\u001b[39m]])\n\u001b[0;32m      2\u001b[0m d \u001b[38;5;241m=\u001b[39m np\u001b[38;5;241m.\u001b[39marray([[\u001b[38;5;241m2\u001b[39m,\u001b[38;5;241m2\u001b[39m,\u001b[38;5;241m2\u001b[39m],[\u001b[38;5;241m2\u001b[39m,\u001b[38;5;241m1\u001b[39m,\u001b[38;5;241m4\u001b[39m]])\n\u001b[1;32m----> 4\u001b[0m \u001b[38;5;28mprint\u001b[39m(\u001b[43mnp\u001b[49m\u001b[38;5;241;43m.\u001b[39;49m\u001b[43mdot\u001b[49m\u001b[43m(\u001b[49m\u001b[43mc\u001b[49m\u001b[43m,\u001b[49m\u001b[43m \u001b[49m\u001b[43md\u001b[49m\u001b[43m)\u001b[49m)\n",
      "\u001b[1;31mValueError\u001b[0m: shapes (2,3) and (2,3) not aligned: 3 (dim 1) != 2 (dim 0)"
     ]
    }
   ],
   "source": [
    "c = np.array([[1,2,1],[2,4,1]])\n",
    "d = np.array([[2,2,2],[2,1,4]])\n",
    "\n",
    "print(np.dot(c, d)) # 곱하는행렬 갯수가 같아야함 c_row: 2개 d_col:3개 라서 연산 안됨"
   ]
  },
  {
   "cell_type": "markdown",
   "id": "e8ffcc8d",
   "metadata": {},
   "source": [
    "### 전치 행렬"
   ]
  },
  {
   "cell_type": "code",
   "execution_count": 11,
   "id": "59c7f9bc",
   "metadata": {},
   "outputs": [
    {
     "name": "stdout",
     "output_type": "stream",
     "text": [
      "[[1 2]\n",
      " [3 4]]\n",
      "[[1 3]\n",
      " [2 4]]\n"
     ]
    }
   ],
   "source": [
    "a = np.array([[1,2], [3,4]])\n",
    "\n",
    "print(a)\n",
    "print(np.transpose(a))"
   ]
  },
  {
   "cell_type": "code",
   "execution_count": null,
   "id": "48ca2692",
   "metadata": {},
   "outputs": [],
   "source": []
  }
 ],
 "metadata": {
  "kernelspec": {
   "display_name": "Python 3 (ipykernel)",
   "language": "python",
   "name": "python3"
  },
  "language_info": {
   "codemirror_mode": {
    "name": "ipython",
    "version": 3
   },
   "file_extension": ".py",
   "mimetype": "text/x-python",
   "name": "python",
   "nbconvert_exporter": "python",
   "pygments_lexer": "ipython3",
   "version": "3.10.11"
  }
 },
 "nbformat": 4,
 "nbformat_minor": 5
}
